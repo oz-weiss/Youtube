{
 "cells": [
  {
   "cell_type": "code",
   "execution_count": 33,
   "metadata": {},
   "outputs": [],
   "source": [
    "import pandas as pd\n",
    "import numpy as np\n",
    "import json\n",
    "import matplotlib.pyplot as plt\n",
    "import seaborn as sns\n",
    "import datetime as dt\n",
    "from datetime import time\n",
    "import glob\n",
    "%matplotlib inline"
   ]
  },
  {
   "cell_type": "code",
   "execution_count": 34,
   "metadata": {},
   "outputs": [],
   "source": [
    "ca = pd.read_csv('C:\\\\Users\\\\omerw\\\\Desktop\\\\youtube\\\\Data\\\\cavideos.csv')"
   ]
  },
  {
   "cell_type": "code",
   "execution_count": 35,
   "metadata": {},
   "outputs": [],
   "source": [
    "with open('C:\\\\Users\\\\omerw\\\\Desktop\\\\youtube\\\\Data\\\\CA_category_id.json') as f:\n",
    "    categories = json.load(f)['items']"
   ]
  },
  {
   "cell_type": "code",
   "execution_count": 36,
   "metadata": {},
   "outputs": [],
   "source": [
    "category_name = {}\n",
    "for category in categories:\n",
    "    category_name[int(category['id'])] = category['snippet']['title']\n",
    "ca['category_name'] = ca['category_id'].map(category_name)"
   ]
  },
  {
   "cell_type": "code",
   "execution_count": 37,
   "metadata": {},
   "outputs": [
    {
     "name": "stdout",
     "output_type": "stream",
     "text": [
      "{1: 'Film & Animation', 2: 'Autos & Vehicles', 10: 'Music', 15: 'Pets & Animals', 17: 'Sports', 18: 'Short Movies', 19: 'Travel & Events', 20: 'Gaming', 21: 'Videoblogging', 22: 'People & Blogs', 23: 'Comedy', 24: 'Entertainment', 25: 'News & Politics', 26: 'Howto & Style', 27: 'Education', 28: 'Science & Technology', 29: 'Nonprofits & Activism', 30: 'Movies', 31: 'Anime/Animation', 32: 'Action/Adventure', 33: 'Classics', 34: 'Comedy', 35: 'Documentary', 36: 'Drama', 37: 'Family', 38: 'Foreign', 39: 'Horror', 40: 'Sci-Fi/Fantasy', 41: 'Thriller', 42: 'Shorts', 43: 'Shows', 44: 'Trailers'}\n"
     ]
    }
   ],
   "source": [
    "print(category_name)"
   ]
  },
  {
   "cell_type": "code",
   "execution_count": 38,
   "metadata": {},
   "outputs": [],
   "source": [
    "ca['description'].fillna(value='None',inplace=True)"
   ]
  },
  {
   "cell_type": "code",
   "execution_count": 39,
   "metadata": {},
   "outputs": [],
   "source": [
    "ca['publish_time'] = pd.to_datetime(ca['publish_time'], format = '%Y-%m-%dT%H:%M:%S.%fZ')"
   ]
  },
  {
   "cell_type": "code",
   "execution_count": 40,
   "metadata": {},
   "outputs": [],
   "source": [
    "ca['publish_month'] = ca['publish_time'].dt.month"
   ]
  },
  {
   "cell_type": "code",
   "execution_count": 41,
   "metadata": {},
   "outputs": [],
   "source": [
    "ca['trending_date'] = pd.to_datetime(ca['trending_date'],format = '%y.%d.%m')\n",
    "ca['trending_month'] = ca['trending_date'].dt.month"
   ]
  },
  {
   "cell_type": "code",
   "execution_count": 42,
   "metadata": {},
   "outputs": [],
   "source": [
    "like_percent = pd.DataFrame((ca['likes'] / ca['views']) * 100)\n",
    "dislike_percent = pd.DataFrame((ca['dislikes'] / ca['views']) * 100)\n",
    "ca['like_percent'] = like_percent\n",
    "ca['dislike_percent'] = dislike_percent"
   ]
  },
  {
   "cell_type": "code",
   "execution_count": 43,
   "metadata": {},
   "outputs": [],
   "source": [
    "ca['positive_or_negative'] = ca['like_percent'] > ca['dislike_percent']"
   ]
  },
  {
   "cell_type": "code",
   "execution_count": 44,
   "metadata": {},
   "outputs": [],
   "source": [
    "# comparing the likes to dislikes \n",
    "video_feel = []\n",
    "for item in ca['positive_or_negative']:\n",
    "    if item == True:\n",
    "        video_feel.append(1)\n",
    "    else:\n",
    "        video_feel.append(0)"
   ]
  },
  {
   "cell_type": "code",
   "execution_count": 45,
   "metadata": {},
   "outputs": [],
   "source": [
    "ca['positive_or_negative'] = video_feel"
   ]
  },
  {
   "cell_type": "code",
   "execution_count": 46,
   "metadata": {},
   "outputs": [],
   "source": [
    "\n",
    "ca = ca[['video_id','trending_date','trending_month','title','channel_title',\n",
    "        'category_id','category_name','publish_time','publish_month','views','positive_or_negative',\n",
    "        'likes','like_percent','dislikes','dislike_percent','comment_count','thumbnail_link','comments_disabled',\n",
    "        'ratings_disabled','video_error_or_removed','description']]"
   ]
  },
  {
   "cell_type": "code",
   "execution_count": 47,
   "metadata": {},
   "outputs": [],
   "source": [
    "corr_list = ca[['views','likes','dislikes','comment_count']]"
   ]
  },
  {
   "cell_type": "code",
   "execution_count": 48,
   "metadata": {},
   "outputs": [],
   "source": [
    "ca[['hours','minutes','seconds']] = ca['publish_time'].dt.time.astype(str).str.split(':', expand=True)"
   ]
  },
  {
   "cell_type": "code",
   "execution_count": 49,
   "metadata": {},
   "outputs": [
    {
     "data": {
      "text/html": [
       "<div>\n",
       "<style scoped>\n",
       "    .dataframe tbody tr th:only-of-type {\n",
       "        vertical-align: middle;\n",
       "    }\n",
       "\n",
       "    .dataframe tbody tr th {\n",
       "        vertical-align: top;\n",
       "    }\n",
       "\n",
       "    .dataframe thead th {\n",
       "        text-align: right;\n",
       "    }\n",
       "</style>\n",
       "<table border=\"1\" class=\"dataframe\">\n",
       "  <thead>\n",
       "    <tr style=\"text-align: right;\">\n",
       "      <th></th>\n",
       "      <th>video_id</th>\n",
       "      <th>trending_date</th>\n",
       "      <th>trending_month</th>\n",
       "      <th>title</th>\n",
       "      <th>channel_title</th>\n",
       "      <th>category_id</th>\n",
       "      <th>category_name</th>\n",
       "      <th>publish_time</th>\n",
       "      <th>publish_month</th>\n",
       "      <th>views</th>\n",
       "      <th>...</th>\n",
       "      <th>dislike_percent</th>\n",
       "      <th>comment_count</th>\n",
       "      <th>thumbnail_link</th>\n",
       "      <th>comments_disabled</th>\n",
       "      <th>ratings_disabled</th>\n",
       "      <th>video_error_or_removed</th>\n",
       "      <th>description</th>\n",
       "      <th>hours</th>\n",
       "      <th>minutes</th>\n",
       "      <th>seconds</th>\n",
       "    </tr>\n",
       "  </thead>\n",
       "  <tbody>\n",
       "    <tr>\n",
       "      <th>0</th>\n",
       "      <td>n1WpP7iowLc</td>\n",
       "      <td>2017-11-14</td>\n",
       "      <td>11</td>\n",
       "      <td>Eminem - Walk On Water (Audio) ft. Beyoncé</td>\n",
       "      <td>EminemVEVO</td>\n",
       "      <td>10</td>\n",
       "      <td>Music</td>\n",
       "      <td>2017-11-10 17:00:03</td>\n",
       "      <td>11</td>\n",
       "      <td>17158579</td>\n",
       "      <td>...</td>\n",
       "      <td>0.253051</td>\n",
       "      <td>125882</td>\n",
       "      <td>https://i.ytimg.com/vi/n1WpP7iowLc/default.jpg</td>\n",
       "      <td>False</td>\n",
       "      <td>False</td>\n",
       "      <td>False</td>\n",
       "      <td>Eminem's new track Walk on Water ft. Beyoncé i...</td>\n",
       "      <td>17</td>\n",
       "      <td>00</td>\n",
       "      <td>03</td>\n",
       "    </tr>\n",
       "  </tbody>\n",
       "</table>\n",
       "<p>1 rows × 24 columns</p>\n",
       "</div>"
      ],
      "text/plain": [
       "      video_id trending_date  trending_month  \\\n",
       "0  n1WpP7iowLc    2017-11-14              11   \n",
       "\n",
       "                                        title channel_title  category_id  \\\n",
       "0  Eminem - Walk On Water (Audio) ft. Beyoncé    EminemVEVO           10   \n",
       "\n",
       "  category_name        publish_time  publish_month     views  ...  \\\n",
       "0         Music 2017-11-10 17:00:03             11  17158579  ...   \n",
       "\n",
       "   dislike_percent  comment_count  \\\n",
       "0         0.253051         125882   \n",
       "\n",
       "                                   thumbnail_link  comments_disabled  \\\n",
       "0  https://i.ytimg.com/vi/n1WpP7iowLc/default.jpg              False   \n",
       "\n",
       "   ratings_disabled  video_error_or_removed  \\\n",
       "0             False                   False   \n",
       "\n",
       "                                         description  hours  minutes  seconds  \n",
       "0  Eminem's new track Walk on Water ft. Beyoncé i...     17       00       03  \n",
       "\n",
       "[1 rows x 24 columns]"
      ]
     },
     "execution_count": 49,
     "metadata": {},
     "output_type": "execute_result"
    }
   ],
   "source": [
    "ca.head(1)"
   ]
  },
  {
   "cell_type": "code",
   "execution_count": 50,
   "metadata": {},
   "outputs": [
    {
     "data": {
      "text/html": [
       "<div>\n",
       "<style scoped>\n",
       "    .dataframe tbody tr th:only-of-type {\n",
       "        vertical-align: middle;\n",
       "    }\n",
       "\n",
       "    .dataframe tbody tr th {\n",
       "        vertical-align: top;\n",
       "    }\n",
       "\n",
       "    .dataframe thead th {\n",
       "        text-align: right;\n",
       "    }\n",
       "</style>\n",
       "<table border=\"1\" class=\"dataframe\">\n",
       "  <thead>\n",
       "    <tr style=\"text-align: right;\">\n",
       "      <th></th>\n",
       "      <th>trending_month</th>\n",
       "      <th>category_id</th>\n",
       "      <th>publish_month</th>\n",
       "      <th>views</th>\n",
       "      <th>positive_or_negative</th>\n",
       "      <th>likes</th>\n",
       "      <th>like_percent</th>\n",
       "      <th>dislikes</th>\n",
       "      <th>dislike_percent</th>\n",
       "      <th>comment_count</th>\n",
       "    </tr>\n",
       "  </thead>\n",
       "  <tbody>\n",
       "    <tr>\n",
       "      <th>count</th>\n",
       "      <td>40881.000000</td>\n",
       "      <td>40881.000000</td>\n",
       "      <td>40881.000000</td>\n",
       "      <td>4.088100e+04</td>\n",
       "      <td>40881.000000</td>\n",
       "      <td>4.088100e+04</td>\n",
       "      <td>40881.000000</td>\n",
       "      <td>4.088100e+04</td>\n",
       "      <td>40881.000000</td>\n",
       "      <td>4.088100e+04</td>\n",
       "    </tr>\n",
       "    <tr>\n",
       "      <th>mean</th>\n",
       "      <td>5.234143</td>\n",
       "      <td>20.795553</td>\n",
       "      <td>5.273183</td>\n",
       "      <td>1.147036e+06</td>\n",
       "      <td>0.986424</td>\n",
       "      <td>3.958269e+04</td>\n",
       "      <td>3.341188</td>\n",
       "      <td>2.009195e+03</td>\n",
       "      <td>0.132381</td>\n",
       "      <td>5.042975e+03</td>\n",
       "    </tr>\n",
       "    <tr>\n",
       "      <th>std</th>\n",
       "      <td>3.826237</td>\n",
       "      <td>6.775054</td>\n",
       "      <td>3.852069</td>\n",
       "      <td>3.390913e+06</td>\n",
       "      <td>0.115724</td>\n",
       "      <td>1.326895e+05</td>\n",
       "      <td>3.077632</td>\n",
       "      <td>1.900837e+04</td>\n",
       "      <td>0.321985</td>\n",
       "      <td>2.157902e+04</td>\n",
       "    </tr>\n",
       "    <tr>\n",
       "      <th>min</th>\n",
       "      <td>1.000000</td>\n",
       "      <td>1.000000</td>\n",
       "      <td>1.000000</td>\n",
       "      <td>7.330000e+02</td>\n",
       "      <td>0.000000</td>\n",
       "      <td>0.000000e+00</td>\n",
       "      <td>0.000000</td>\n",
       "      <td>0.000000e+00</td>\n",
       "      <td>0.000000</td>\n",
       "      <td>0.000000e+00</td>\n",
       "    </tr>\n",
       "    <tr>\n",
       "      <th>25%</th>\n",
       "      <td>2.000000</td>\n",
       "      <td>20.000000</td>\n",
       "      <td>2.000000</td>\n",
       "      <td>1.439020e+05</td>\n",
       "      <td>1.000000</td>\n",
       "      <td>2.191000e+03</td>\n",
       "      <td>0.939988</td>\n",
       "      <td>9.900000e+01</td>\n",
       "      <td>0.049934</td>\n",
       "      <td>4.170000e+02</td>\n",
       "    </tr>\n",
       "    <tr>\n",
       "      <th>50%</th>\n",
       "      <td>4.000000</td>\n",
       "      <td>24.000000</td>\n",
       "      <td>4.000000</td>\n",
       "      <td>3.712040e+05</td>\n",
       "      <td>1.000000</td>\n",
       "      <td>8.780000e+03</td>\n",
       "      <td>2.512198</td>\n",
       "      <td>3.030000e+02</td>\n",
       "      <td>0.080368</td>\n",
       "      <td>1.301000e+03</td>\n",
       "    </tr>\n",
       "    <tr>\n",
       "      <th>75%</th>\n",
       "      <td>6.000000</td>\n",
       "      <td>24.000000</td>\n",
       "      <td>6.000000</td>\n",
       "      <td>9.633020e+05</td>\n",
       "      <td>1.000000</td>\n",
       "      <td>2.871700e+04</td>\n",
       "      <td>4.823377</td>\n",
       "      <td>9.500000e+02</td>\n",
       "      <td>0.135348</td>\n",
       "      <td>3.713000e+03</td>\n",
       "    </tr>\n",
       "    <tr>\n",
       "      <th>max</th>\n",
       "      <td>12.000000</td>\n",
       "      <td>43.000000</td>\n",
       "      <td>12.000000</td>\n",
       "      <td>1.378431e+08</td>\n",
       "      <td>1.000000</td>\n",
       "      <td>5.053338e+06</td>\n",
       "      <td>45.050857</td>\n",
       "      <td>1.602383e+06</td>\n",
       "      <td>21.558033</td>\n",
       "      <td>1.114800e+06</td>\n",
       "    </tr>\n",
       "  </tbody>\n",
       "</table>\n",
       "</div>"
      ],
      "text/plain": [
       "       trending_month   category_id  publish_month         views  \\\n",
       "count    40881.000000  40881.000000   40881.000000  4.088100e+04   \n",
       "mean         5.234143     20.795553       5.273183  1.147036e+06   \n",
       "std          3.826237      6.775054       3.852069  3.390913e+06   \n",
       "min          1.000000      1.000000       1.000000  7.330000e+02   \n",
       "25%          2.000000     20.000000       2.000000  1.439020e+05   \n",
       "50%          4.000000     24.000000       4.000000  3.712040e+05   \n",
       "75%          6.000000     24.000000       6.000000  9.633020e+05   \n",
       "max         12.000000     43.000000      12.000000  1.378431e+08   \n",
       "\n",
       "       positive_or_negative         likes  like_percent      dislikes  \\\n",
       "count          40881.000000  4.088100e+04  40881.000000  4.088100e+04   \n",
       "mean               0.986424  3.958269e+04      3.341188  2.009195e+03   \n",
       "std                0.115724  1.326895e+05      3.077632  1.900837e+04   \n",
       "min                0.000000  0.000000e+00      0.000000  0.000000e+00   \n",
       "25%                1.000000  2.191000e+03      0.939988  9.900000e+01   \n",
       "50%                1.000000  8.780000e+03      2.512198  3.030000e+02   \n",
       "75%                1.000000  2.871700e+04      4.823377  9.500000e+02   \n",
       "max                1.000000  5.053338e+06     45.050857  1.602383e+06   \n",
       "\n",
       "       dislike_percent  comment_count  \n",
       "count     40881.000000   4.088100e+04  \n",
       "mean          0.132381   5.042975e+03  \n",
       "std           0.321985   2.157902e+04  \n",
       "min           0.000000   0.000000e+00  \n",
       "25%           0.049934   4.170000e+02  \n",
       "50%           0.080368   1.301000e+03  \n",
       "75%           0.135348   3.713000e+03  \n",
       "max          21.558033   1.114800e+06  "
      ]
     },
     "execution_count": 50,
     "metadata": {},
     "output_type": "execute_result"
    }
   ],
   "source": [
    "ca.describe()"
   ]
  },
  {
   "cell_type": "code",
   "execution_count": 51,
   "metadata": {},
   "outputs": [
    {
     "data": {
      "text/plain": [
       "Index(['video_id', 'trending_date', 'trending_month', 'title', 'channel_title',\n",
       "       'category_id', 'category_name', 'publish_time', 'publish_month',\n",
       "       'views', 'positive_or_negative', 'likes', 'like_percent', 'dislikes',\n",
       "       'dislike_percent', 'comment_count', 'thumbnail_link',\n",
       "       'comments_disabled', 'ratings_disabled', 'video_error_or_removed',\n",
       "       'description', 'hours', 'minutes', 'seconds'],\n",
       "      dtype='object')"
      ]
     },
     "execution_count": 51,
     "metadata": {},
     "output_type": "execute_result"
    }
   ],
   "source": [
    "ca.columns\n",
    "# our x & y\n",
    "# the y will be -> likes\n",
    "# the x will be -> trending month, publish month, views, disklikes, and comment_count"
   ]
  },
  {
   "cell_type": "code",
   "execution_count": 52,
   "metadata": {},
   "outputs": [],
   "source": [
    "df = ca[['category_id','trending_date','trending_month','publish_time','publish_month','category_id','views','likes','dislikes',\n",
    "         'positive_or_negative','comment_count']]"
   ]
  },
  {
   "cell_type": "code",
   "execution_count": 53,
   "metadata": {},
   "outputs": [
    {
     "name": "stderr",
     "output_type": "stream",
     "text": [
      "<ipython-input-53-1bb809b22f8d>:1: SettingWithCopyWarning: \n",
      "A value is trying to be set on a copy of a slice from a DataFrame.\n",
      "Try using .loc[row_indexer,col_indexer] = value instead\n",
      "\n",
      "See the caveats in the documentation: https://pandas.pydata.org/pandas-docs/stable/user_guide/indexing.html#returning-a-view-versus-a-copy\n",
      "  df['views_log'] = np.log(df['views'])\n",
      "C:\\Users\\omerw\\anaconda3\\lib\\site-packages\\pandas\\core\\series.py:679: RuntimeWarning: divide by zero encountered in log\n",
      "  result = getattr(ufunc, method)(*inputs, **kwargs)\n",
      "<ipython-input-53-1bb809b22f8d>:2: SettingWithCopyWarning: \n",
      "A value is trying to be set on a copy of a slice from a DataFrame.\n",
      "Try using .loc[row_indexer,col_indexer] = value instead\n",
      "\n",
      "See the caveats in the documentation: https://pandas.pydata.org/pandas-docs/stable/user_guide/indexing.html#returning-a-view-versus-a-copy\n",
      "  df['likes_log'] = np.log(df['likes'])\n",
      "<ipython-input-53-1bb809b22f8d>:3: SettingWithCopyWarning: \n",
      "A value is trying to be set on a copy of a slice from a DataFrame.\n",
      "Try using .loc[row_indexer,col_indexer] = value instead\n",
      "\n",
      "See the caveats in the documentation: https://pandas.pydata.org/pandas-docs/stable/user_guide/indexing.html#returning-a-view-versus-a-copy\n",
      "  df['dislikes_log'] = np.log(df['dislikes'])\n",
      "<ipython-input-53-1bb809b22f8d>:4: SettingWithCopyWarning: \n",
      "A value is trying to be set on a copy of a slice from a DataFrame.\n",
      "Try using .loc[row_indexer,col_indexer] = value instead\n",
      "\n",
      "See the caveats in the documentation: https://pandas.pydata.org/pandas-docs/stable/user_guide/indexing.html#returning-a-view-versus-a-copy\n",
      "  df['comment_count_log'] = np.log(df['comment_count'])\n"
     ]
    }
   ],
   "source": [
    "df['views_log'] = np.log(df['views'])\n",
    "df['likes_log'] = np.log(df['likes'])\n",
    "df['dislikes_log'] = np.log(df['dislikes'])\n",
    "df['comment_count_log'] = np.log(df['comment_count'])"
   ]
  },
  {
   "cell_type": "code",
   "execution_count": 54,
   "metadata": {},
   "outputs": [
    {
     "data": {
      "text/html": [
       "<div>\n",
       "<style scoped>\n",
       "    .dataframe tbody tr th:only-of-type {\n",
       "        vertical-align: middle;\n",
       "    }\n",
       "\n",
       "    .dataframe tbody tr th {\n",
       "        vertical-align: top;\n",
       "    }\n",
       "\n",
       "    .dataframe thead th {\n",
       "        text-align: right;\n",
       "    }\n",
       "</style>\n",
       "<table border=\"1\" class=\"dataframe\">\n",
       "  <thead>\n",
       "    <tr style=\"text-align: right;\">\n",
       "      <th></th>\n",
       "      <th>category_id</th>\n",
       "      <th>trending_date</th>\n",
       "      <th>trending_month</th>\n",
       "      <th>publish_time</th>\n",
       "      <th>publish_month</th>\n",
       "      <th>category_id</th>\n",
       "      <th>views</th>\n",
       "      <th>likes</th>\n",
       "      <th>dislikes</th>\n",
       "      <th>positive_or_negative</th>\n",
       "      <th>comment_count</th>\n",
       "      <th>views_log</th>\n",
       "      <th>likes_log</th>\n",
       "      <th>dislikes_log</th>\n",
       "      <th>comment_count_log</th>\n",
       "    </tr>\n",
       "  </thead>\n",
       "  <tbody>\n",
       "    <tr>\n",
       "      <th>0</th>\n",
       "      <td>10</td>\n",
       "      <td>2017-11-14</td>\n",
       "      <td>11</td>\n",
       "      <td>2017-11-10 17:00:03</td>\n",
       "      <td>11</td>\n",
       "      <td>10</td>\n",
       "      <td>17158579</td>\n",
       "      <td>787425</td>\n",
       "      <td>43420</td>\n",
       "      <td>1</td>\n",
       "      <td>125882</td>\n",
       "      <td>16.658009</td>\n",
       "      <td>13.576523</td>\n",
       "      <td>10.678675</td>\n",
       "      <td>11.743100</td>\n",
       "    </tr>\n",
       "    <tr>\n",
       "      <th>1</th>\n",
       "      <td>23</td>\n",
       "      <td>2017-11-14</td>\n",
       "      <td>11</td>\n",
       "      <td>2017-11-13 17:00:00</td>\n",
       "      <td>11</td>\n",
       "      <td>23</td>\n",
       "      <td>1014651</td>\n",
       "      <td>127794</td>\n",
       "      <td>1688</td>\n",
       "      <td>1</td>\n",
       "      <td>13030</td>\n",
       "      <td>13.830055</td>\n",
       "      <td>11.758175</td>\n",
       "      <td>7.431300</td>\n",
       "      <td>9.475010</td>\n",
       "    </tr>\n",
       "    <tr>\n",
       "      <th>2</th>\n",
       "      <td>23</td>\n",
       "      <td>2017-11-14</td>\n",
       "      <td>11</td>\n",
       "      <td>2017-11-12 19:05:24</td>\n",
       "      <td>11</td>\n",
       "      <td>23</td>\n",
       "      <td>3191434</td>\n",
       "      <td>146035</td>\n",
       "      <td>5339</td>\n",
       "      <td>1</td>\n",
       "      <td>8181</td>\n",
       "      <td>14.975981</td>\n",
       "      <td>11.891602</td>\n",
       "      <td>8.582794</td>\n",
       "      <td>9.009570</td>\n",
       "    </tr>\n",
       "    <tr>\n",
       "      <th>3</th>\n",
       "      <td>24</td>\n",
       "      <td>2017-11-14</td>\n",
       "      <td>11</td>\n",
       "      <td>2017-11-12 18:01:41</td>\n",
       "      <td>11</td>\n",
       "      <td>24</td>\n",
       "      <td>2095828</td>\n",
       "      <td>132239</td>\n",
       "      <td>1989</td>\n",
       "      <td>1</td>\n",
       "      <td>17518</td>\n",
       "      <td>14.555459</td>\n",
       "      <td>11.792366</td>\n",
       "      <td>7.595387</td>\n",
       "      <td>9.770984</td>\n",
       "    </tr>\n",
       "    <tr>\n",
       "      <th>4</th>\n",
       "      <td>10</td>\n",
       "      <td>2017-11-14</td>\n",
       "      <td>11</td>\n",
       "      <td>2017-11-09 11:04:14</td>\n",
       "      <td>11</td>\n",
       "      <td>10</td>\n",
       "      <td>33523622</td>\n",
       "      <td>1634130</td>\n",
       "      <td>21082</td>\n",
       "      <td>1</td>\n",
       "      <td>85067</td>\n",
       "      <td>17.327761</td>\n",
       "      <td>14.306621</td>\n",
       "      <td>9.956175</td>\n",
       "      <td>11.351194</td>\n",
       "    </tr>\n",
       "  </tbody>\n",
       "</table>\n",
       "</div>"
      ],
      "text/plain": [
       "   category_id trending_date  trending_month        publish_time  \\\n",
       "0           10    2017-11-14              11 2017-11-10 17:00:03   \n",
       "1           23    2017-11-14              11 2017-11-13 17:00:00   \n",
       "2           23    2017-11-14              11 2017-11-12 19:05:24   \n",
       "3           24    2017-11-14              11 2017-11-12 18:01:41   \n",
       "4           10    2017-11-14              11 2017-11-09 11:04:14   \n",
       "\n",
       "   publish_month  category_id     views    likes  dislikes  \\\n",
       "0             11           10  17158579   787425     43420   \n",
       "1             11           23   1014651   127794      1688   \n",
       "2             11           23   3191434   146035      5339   \n",
       "3             11           24   2095828   132239      1989   \n",
       "4             11           10  33523622  1634130     21082   \n",
       "\n",
       "   positive_or_negative  comment_count  views_log  likes_log  dislikes_log  \\\n",
       "0                     1         125882  16.658009  13.576523     10.678675   \n",
       "1                     1          13030  13.830055  11.758175      7.431300   \n",
       "2                     1           8181  14.975981  11.891602      8.582794   \n",
       "3                     1          17518  14.555459  11.792366      7.595387   \n",
       "4                     1          85067  17.327761  14.306621      9.956175   \n",
       "\n",
       "   comment_count_log  \n",
       "0          11.743100  \n",
       "1           9.475010  \n",
       "2           9.009570  \n",
       "3           9.770984  \n",
       "4          11.351194  "
      ]
     },
     "execution_count": 54,
     "metadata": {},
     "output_type": "execute_result"
    }
   ],
   "source": [
    "df.head()"
   ]
  },
  {
   "cell_type": "code",
   "execution_count": 55,
   "metadata": {},
   "outputs": [],
   "source": [
    "X = df[['trending_month','publish_month','category_id','positive_or_negative',\n",
    "        'views','dislikes','comment_count']]\n",
    "y = df['likes']"
   ]
  },
  {
   "cell_type": "code",
   "execution_count": 56,
   "metadata": {},
   "outputs": [],
   "source": [
    "from sklearn.model_selection import train_test_split"
   ]
  },
  {
   "cell_type": "code",
   "execution_count": 57,
   "metadata": {},
   "outputs": [],
   "source": [
    "X_train, X_test, y_train, y_test = train_test_split(X, y, test_size=0.3, random_state=0)"
   ]
  },
  {
   "cell_type": "code",
   "execution_count": 58,
   "metadata": {},
   "outputs": [],
   "source": [
    "from sklearn.linear_model import LinearRegression"
   ]
  },
  {
   "cell_type": "code",
   "execution_count": 59,
   "metadata": {},
   "outputs": [],
   "source": [
    "lm = LinearRegression()"
   ]
  },
  {
   "cell_type": "code",
   "execution_count": 60,
   "metadata": {},
   "outputs": [],
   "source": [
    "fit_model = lm.fit(X_train,y_train)"
   ]
  },
  {
   "cell_type": "code",
   "execution_count": 61,
   "metadata": {},
   "outputs": [
    {
     "data": {
      "text/plain": [
       "Index(['trending_month', 'publish_month', 'category_id', 'category_id',\n",
       "       'positive_or_negative', 'views', 'dislikes', 'comment_count'],\n",
       "      dtype='object')"
      ]
     },
     "execution_count": 61,
     "metadata": {},
     "output_type": "execute_result"
    }
   ],
   "source": [
    "X_train.columns"
   ]
  },
  {
   "cell_type": "code",
   "execution_count": 62,
   "metadata": {},
   "outputs": [
    {
     "data": {
      "text/html": [
       "<div>\n",
       "<style scoped>\n",
       "    .dataframe tbody tr th:only-of-type {\n",
       "        vertical-align: middle;\n",
       "    }\n",
       "\n",
       "    .dataframe tbody tr th {\n",
       "        vertical-align: top;\n",
       "    }\n",
       "\n",
       "    .dataframe thead th {\n",
       "        text-align: right;\n",
       "    }\n",
       "</style>\n",
       "<table border=\"1\" class=\"dataframe\">\n",
       "  <thead>\n",
       "    <tr style=\"text-align: right;\">\n",
       "      <th></th>\n",
       "      <th>Coefficients</th>\n",
       "    </tr>\n",
       "  </thead>\n",
       "  <tbody>\n",
       "    <tr>\n",
       "      <th>trending_month</th>\n",
       "      <td>356.976322</td>\n",
       "    </tr>\n",
       "    <tr>\n",
       "      <th>publish_month</th>\n",
       "      <td>-73.031530</td>\n",
       "    </tr>\n",
       "    <tr>\n",
       "      <th>category_id</th>\n",
       "      <td>-333.501868</td>\n",
       "    </tr>\n",
       "    <tr>\n",
       "      <th>category_id</th>\n",
       "      <td>-333.501868</td>\n",
       "    </tr>\n",
       "    <tr>\n",
       "      <th>positive_or_negative</th>\n",
       "      <td>17514.083770</td>\n",
       "    </tr>\n",
       "    <tr>\n",
       "      <th>views</th>\n",
       "      <td>0.020028</td>\n",
       "    </tr>\n",
       "    <tr>\n",
       "      <th>dislikes</th>\n",
       "      <td>-1.697622</td>\n",
       "    </tr>\n",
       "    <tr>\n",
       "      <th>comment_count</th>\n",
       "      <td>3.958167</td>\n",
       "    </tr>\n",
       "  </tbody>\n",
       "</table>\n",
       "</div>"
      ],
      "text/plain": [
       "                      Coefficients\n",
       "trending_month          356.976322\n",
       "publish_month           -73.031530\n",
       "category_id            -333.501868\n",
       "category_id            -333.501868\n",
       "positive_or_negative  17514.083770\n",
       "views                     0.020028\n",
       "dislikes                 -1.697622\n",
       "comment_count             3.958167"
      ]
     },
     "execution_count": 62,
     "metadata": {},
     "output_type": "execute_result"
    }
   ],
   "source": [
    "cdf = pd.DataFrame(lm.coef_,index = X_train.columns,columns=['Coefficients'])\n",
    "cdf"
   ]
  },
  {
   "cell_type": "code",
   "execution_count": 63,
   "metadata": {},
   "outputs": [],
   "source": [
    "predictions = lm.predict(X_test)"
   ]
  },
  {
   "cell_type": "code",
   "execution_count": 64,
   "metadata": {},
   "outputs": [
    {
     "data": {
      "image/png": "[encoded data removed]",
      "text/plain": [
       "<Figure size 1080x720 with 1 Axes>"
      ]
     },
     "metadata": {
      "needs_background": "light"
     },
     "output_type": "display_data"
    }
   ],
   "source": [
    "plt.figure(figsize=(15,10))\n",
    "g = sns.regplot(y_test,predictions,fit_reg=True)\n",
    "plt.xlabel('Y Test (Actual)')\n",
    "plt.ylabel('Predictions')\n",
    "g.set(xlim=(-100000,5000000),ylim=(-100000,5000000))\n",
    "plt.show(g)"
   ]
  },
  {
   "cell_type": "code",
   "execution_count": 65,
   "metadata": {},
   "outputs": [
    {
     "data": {
      "text/plain": [
       "0.8394837715158079"
      ]
     },
     "execution_count": 65,
     "metadata": {},
     "output_type": "execute_result"
    }
   ],
   "source": [
    "lm.score(X_test,y_test)"
   ]
  }
 ],
 "metadata": {
  "kernelspec": {
   "display_name": "Python 3",
   "language": "python",
   "name": "python3"
  },
  "language_info": {
   "codemirror_mode": {
    "name": "ipython",
    "version": 3
   },
   "file_extension": ".py",
   "mimetype": "text/x-python",
   "name": "python",
   "nbconvert_exporter": "python",
   "pygments_lexer": "ipython3",
   "version": "3.8.3"
  }
 },
 "nbformat": 4,
 "nbformat_minor": 4
}
